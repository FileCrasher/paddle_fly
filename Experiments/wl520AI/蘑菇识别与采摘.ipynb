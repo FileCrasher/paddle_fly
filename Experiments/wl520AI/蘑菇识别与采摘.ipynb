{
 "cells": [
  {
   "cell_type": "markdown",
   "metadata": {
    "collapsed": false
   },
   "source": [
    "# 『飞桨领航团AI达人创造营』大作业\n",
    "\n",
    "## 作业说明\n",
    "\n",
    "* 已提交【作业3：模型训练与调参】的同学，只需完善项目 README （[README模板](https://aistudio.baidu.com/aistudio/projectdetail/2267913)），在 AI Studio 公开你的项目，并把项目上传到 Github 或 Gitee 即可结业。\n",
    "* 未提交【作业3：模型训练与调参】的同学，完成官方提供的命题，完善项目 README （[README模板](https://aistudio.baidu.com/aistudio/projectdetail/2267913)），在 AI Studio 公开你的项目，并把项目上传到 Github 或 Gitee 即可结业。\n",
    "\n",
    "官方命题作业分成[图像分类](https://aistudio.baidu.com/aistudio/projectdetail/2270454)、[图像分割](https://aistudio.baidu.com/aistudio/projectdetail/2270294)、[目标检测](https://aistudio.baidu.com/aistudio/projectdetail/2269095)三个方向，每个方向有五个数据集。同学任选其中一个方向，任选其中一个数据集。\n",
    "\n",
    "图像分类：[[AI训练营]PaddleClas实现图像分类Baseline](https://aistudio.baidu.com/aistudio/projectdetail/2270454)\n",
    "\n",
    "图像分割：[[AI训练营]PaddleSeg实现语义分割Baseline](https://aistudio.baidu.com/aistudio/projectdetail/2270294)\n",
    "\n",
    "目标检测：[[AI训练营]PaddleX实现目标检测Baseline](https://aistudio.baidu.com/aistudio/projectdetail/2269095)\n",
    "\n",
    "## 请在此处附上您的项目链接<font color='red' size=4>（注：不填写链接、项目未公开视为没做大作业）</font>\n",
    "\n",
    "AI Studio 公开状态的项目链接：[基于Yolov4的蘑菇智能识别采摘系统](https://aistudio.baidu.com/aistudio/projectdetail/2252338)\n",
    "\n",
    "Github 或 Gitee 的项目链接："
   ]
  },
  {
   "cell_type": "code",
   "execution_count": null,
   "metadata": {
    "collapsed": false
   },
   "outputs": [],
   "source": []
  }
 ],
 "metadata": {
  "kernelspec": {
   "display_name": "PaddlePaddle 2.1.2 (Python 3.5)",
   "language": "python",
   "name": "py35-paddle1.2.0"
  },
  "language_info": {
   "codemirror_mode": {
    "name": "ipython",
    "version": 3
   },
   "file_extension": ".py",
   "mimetype": "text/x-python",
   "name": "python",
   "nbconvert_exporter": "python",
   "pygments_lexer": "ipython3",
   "version": "3.7.4"
  }
 },
 "nbformat": 4,
 "nbformat_minor": 1
}
