{
 "cells": [
  {
   "cell_type": "markdown",
   "metadata": {
    "collapsed": false
   },
   "source": [
    "# PaddleX实现目标检测baseline"
   ]
  },
  {
   "cell_type": "markdown",
   "metadata": {
    "collapsed": false
   },
   "source": [
    "## 一、项目背景\n",
    "###  官方命题"
   ]
  },
  {
   "cell_type": "markdown",
   "metadata": {
    "collapsed": false
   },
   "source": [
    "## 二、数据集简介"
   ]
  },
  {
   "cell_type": "markdown",
   "metadata": {
    "collapsed": false
   },
   "source": [
    "### 1.数据集说明"
   ]
  },
  {
   "cell_type": "code",
   "execution_count": 1,
   "metadata": {
    "collapsed": false
   },
   "outputs": [],
   "source": [
    "# 解压数据集（解压一次即可，请勿重复解压）\n",
    "!unzip -oq /home/aistudio/data/data103743/objDataset.zip"
   ]
  },
  {
   "cell_type": "code",
   "execution_count": 2,
   "metadata": {
    "collapsed": false
   },
   "outputs": [
    {
     "name": "stdout",
     "output_type": "stream",
     "text": [
      "objDataset\r\n",
      "├── barricade\r\n",
      "│   ├── Annotations\r\n",
      "│   └── JPEGImages\r\n",
      "├── facemask\r\n",
      "│   ├── Annotations\r\n",
      "│   └── JPEGImages\r\n",
      "├── fire\r\n",
      "│   ├── Annotations\r\n",
      "│   └── JPEGImages\r\n",
      "├── MidAutumn\r\n",
      "│   ├── Annotations\r\n",
      "│   └── JPEGImages\r\n",
      "└── roadsign_voc\r\n",
      "    ├── Annotations\r\n",
      "    └── JPEGImages\r\n",
      "\r\n",
      "15 directories, 0 files\r\n"
     ]
    }
   ],
   "source": [
    "# 查看数据集文件结构\n",
    "!tree objDataset -L 2"
   ]
  },
  {
   "cell_type": "markdown",
   "metadata": {
    "collapsed": false
   },
   "source": [
    "### 2.数据准备"
   ]
  },
  {
   "cell_type": "code",
   "execution_count": 4,
   "metadata": {
    "collapsed": false
   },
   "outputs": [
    {
     "name": "stdout",
     "output_type": "stream",
     "text": [
      "Looking in indexes: https://mirror.baidu.com/pypi/simple/\n",
      "Requirement already satisfied: paddlex in /opt/conda/envs/python35-paddle120-env/lib/python3.7/site-packages (1.3.11)\n",
      "Requirement already satisfied: xlwt in /opt/conda/envs/python35-paddle120-env/lib/python3.7/site-packages (from paddlex) (1.3.0)\n",
      "Requirement already satisfied: visualdl>=2.0.0 in /opt/conda/envs/python35-paddle120-env/lib/python3.7/site-packages (from paddlex) (2.2.0)\n",
      "Requirement already satisfied: shapely>=1.7.0 in /opt/conda/envs/python35-paddle120-env/lib/python3.7/site-packages (from paddlex) (1.7.1)\n",
      "Requirement already satisfied: sklearn in /opt/conda/envs/python35-paddle120-env/lib/python3.7/site-packages (from paddlex) (0.0)\n",
      "Requirement already satisfied: tqdm in /opt/conda/envs/python35-paddle120-env/lib/python3.7/site-packages (from paddlex) (4.36.1)\n",
      "Requirement already satisfied: pycocotools; platform_system != \"Windows\" in /opt/conda/envs/python35-paddle120-env/lib/python3.7/site-packages (from paddlex) (2.0.2)\n",
      "Requirement already satisfied: paddlehub==2.1.0 in /opt/conda/envs/python35-paddle120-env/lib/python3.7/site-packages (from paddlex) (2.1.0)\n",
      "Requirement already satisfied: psutil in /opt/conda/envs/python35-paddle120-env/lib/python3.7/site-packages (from paddlex) (5.7.2)\n",
      "Requirement already satisfied: colorama in /opt/conda/envs/python35-paddle120-env/lib/python3.7/site-packages (from paddlex) (0.4.4)\n",
      "Requirement already satisfied: pyyaml in /opt/conda/envs/python35-paddle120-env/lib/python3.7/site-packages (from paddlex) (5.1.2)\n",
      "Requirement already satisfied: flask-cors in /opt/conda/envs/python35-paddle120-env/lib/python3.7/site-packages (from paddlex) (3.0.8)\n",
      "Requirement already satisfied: paddleslim==1.1.1 in /opt/conda/envs/python35-paddle120-env/lib/python3.7/site-packages (from paddlex) (1.1.1)\n",
      "Requirement already satisfied: opencv-python in /opt/conda/envs/python35-paddle120-env/lib/python3.7/site-packages (from paddlex) (4.1.1.26)\n",
      "Requirement already satisfied: six>=1.14.0 in /opt/conda/envs/python35-paddle120-env/lib/python3.7/site-packages (from visualdl>=2.0.0->paddlex) (1.15.0)\n",
      "Requirement already satisfied: pandas in /opt/conda/envs/python35-paddle120-env/lib/python3.7/site-packages (from visualdl>=2.0.0->paddlex) (1.1.5)\n",
      "Requirement already satisfied: matplotlib in /opt/conda/envs/python35-paddle120-env/lib/python3.7/site-packages (from visualdl>=2.0.0->paddlex) (2.2.3)\n",
      "Requirement already satisfied: pre-commit in /opt/conda/envs/python35-paddle120-env/lib/python3.7/site-packages (from visualdl>=2.0.0->paddlex) (1.21.0)\n",
      "Requirement already satisfied: protobuf>=3.11.0 in /opt/conda/envs/python35-paddle120-env/lib/python3.7/site-packages (from visualdl>=2.0.0->paddlex) (3.14.0)\n",
      "Requirement already satisfied: shellcheck-py in /opt/conda/envs/python35-paddle120-env/lib/python3.7/site-packages (from visualdl>=2.0.0->paddlex) (0.7.1.1)\n",
      "Requirement already satisfied: Flask-Babel>=1.0.0 in /opt/conda/envs/python35-paddle120-env/lib/python3.7/site-packages (from visualdl>=2.0.0->paddlex) (1.0.0)\n",
      "Requirement already satisfied: bce-python-sdk in /opt/conda/envs/python35-paddle120-env/lib/python3.7/site-packages (from visualdl>=2.0.0->paddlex) (0.8.53)\n",
      "Requirement already satisfied: requests in /opt/conda/envs/python35-paddle120-env/lib/python3.7/site-packages (from visualdl>=2.0.0->paddlex) (2.22.0)\n",
      "Requirement already satisfied: numpy in /opt/conda/envs/python35-paddle120-env/lib/python3.7/site-packages (from visualdl>=2.0.0->paddlex) (1.16.4)\n",
      "Requirement already satisfied: Pillow>=7.0.0 in /opt/conda/envs/python35-paddle120-env/lib/python3.7/site-packages (from visualdl>=2.0.0->paddlex) (7.1.2)\n",
      "Requirement already satisfied: flake8>=3.7.9 in /opt/conda/envs/python35-paddle120-env/lib/python3.7/site-packages (from visualdl>=2.0.0->paddlex) (3.8.2)\n",
      "Requirement already satisfied: flask>=1.1.1 in /opt/conda/envs/python35-paddle120-env/lib/python3.7/site-packages (from visualdl>=2.0.0->paddlex) (1.1.1)\n",
      "Requirement already satisfied: scikit-learn in /opt/conda/envs/python35-paddle120-env/lib/python3.7/site-packages (from sklearn->paddlex) (0.22.1)\n",
      "Requirement already satisfied: cython>=0.27.3 in /opt/conda/envs/python35-paddle120-env/lib/python3.7/site-packages (from pycocotools; platform_system != \"Windows\"->paddlex) (0.29)\n",
      "Requirement already satisfied: setuptools>=18.0 in /opt/conda/envs/python35-paddle120-env/lib/python3.7/site-packages (from pycocotools; platform_system != \"Windows\"->paddlex) (41.4.0)\n",
      "Requirement already satisfied: rarfile in /opt/conda/envs/python35-paddle120-env/lib/python3.7/site-packages (from paddlehub==2.1.0->paddlex) (3.1)\n",
      "Requirement already satisfied: easydict in /opt/conda/envs/python35-paddle120-env/lib/python3.7/site-packages (from paddlehub==2.1.0->paddlex) (1.9)\n",
      "Requirement already satisfied: pyzmq in /opt/conda/envs/python35-paddle120-env/lib/python3.7/site-packages (from paddlehub==2.1.0->paddlex) (18.1.1)\n",
      "Requirement already satisfied: packaging in /opt/conda/envs/python35-paddle120-env/lib/python3.7/site-packages (from paddlehub==2.1.0->paddlex) (20.9)\n",
      "Requirement already satisfied: colorlog in /opt/conda/envs/python35-paddle120-env/lib/python3.7/site-packages (from paddlehub==2.1.0->paddlex) (4.1.0)\n",
      "Requirement already satisfied: paddle2onnx>=0.5.1 in /opt/conda/envs/python35-paddle120-env/lib/python3.7/site-packages (from paddlehub==2.1.0->paddlex) (0.7)\n",
      "Requirement already satisfied: gunicorn>=19.10.0; sys_platform != \"win32\" in /opt/conda/envs/python35-paddle120-env/lib/python3.7/site-packages (from paddlehub==2.1.0->paddlex) (20.0.4)\n",
      "Requirement already satisfied: filelock in /opt/conda/envs/python35-paddle120-env/lib/python3.7/site-packages (from paddlehub==2.1.0->paddlex) (3.0.12)\n",
      "Requirement already satisfied: gitpython in /opt/conda/envs/python35-paddle120-env/lib/python3.7/site-packages (from paddlehub==2.1.0->paddlex) (3.1.14)\n",
      "Requirement already satisfied: paddlenlp>=2.0.0rc5 in /opt/conda/envs/python35-paddle120-env/lib/python3.7/site-packages (from paddlehub==2.1.0->paddlex) (2.0.7)\n",
      "Requirement already satisfied: pytz>=2017.2 in /opt/conda/envs/python35-paddle120-env/lib/python3.7/site-packages (from pandas->visualdl>=2.0.0->paddlex) (2019.3)\n",
      "Requirement already satisfied: python-dateutil>=2.7.3 in /opt/conda/envs/python35-paddle120-env/lib/python3.7/site-packages (from pandas->visualdl>=2.0.0->paddlex) (2.8.0)\n",
      "Requirement already satisfied: cycler>=0.10 in /opt/conda/envs/python35-paddle120-env/lib/python3.7/site-packages (from matplotlib->visualdl>=2.0.0->paddlex) (0.10.0)\n",
      "Requirement already satisfied: kiwisolver>=1.0.1 in /opt/conda/envs/python35-paddle120-env/lib/python3.7/site-packages (from matplotlib->visualdl>=2.0.0->paddlex) (1.1.0)\n",
      "Requirement already satisfied: pyparsing!=2.0.4,!=2.1.2,!=2.1.6,>=2.0.1 in /opt/conda/envs/python35-paddle120-env/lib/python3.7/site-packages (from matplotlib->visualdl>=2.0.0->paddlex) (2.4.2)\n",
      "Requirement already satisfied: importlib-metadata; python_version < \"3.8\" in /opt/conda/envs/python35-paddle120-env/lib/python3.7/site-packages (from pre-commit->visualdl>=2.0.0->paddlex) (0.23)\n",
      "Requirement already satisfied: cfgv>=2.0.0 in /opt/conda/envs/python35-paddle120-env/lib/python3.7/site-packages (from pre-commit->visualdl>=2.0.0->paddlex) (2.0.1)\n",
      "Requirement already satisfied: virtualenv>=15.2 in /opt/conda/envs/python35-paddle120-env/lib/python3.7/site-packages (from pre-commit->visualdl>=2.0.0->paddlex) (16.7.9)\n",
      "Requirement already satisfied: aspy.yaml in /opt/conda/envs/python35-paddle120-env/lib/python3.7/site-packages (from pre-commit->visualdl>=2.0.0->paddlex) (1.3.0)\n",
      "Requirement already satisfied: nodeenv>=0.11.1 in /opt/conda/envs/python35-paddle120-env/lib/python3.7/site-packages (from pre-commit->visualdl>=2.0.0->paddlex) (1.3.4)\n",
      "Requirement already satisfied: toml in /opt/conda/envs/python35-paddle120-env/lib/python3.7/site-packages (from pre-commit->visualdl>=2.0.0->paddlex) (0.10.0)\n",
      "Requirement already satisfied: identify>=1.0.0 in /opt/conda/envs/python35-paddle120-env/lib/python3.7/site-packages (from pre-commit->visualdl>=2.0.0->paddlex) (1.4.10)\n",
      "Requirement already satisfied: Jinja2>=2.5 in /opt/conda/envs/python35-paddle120-env/lib/python3.7/site-packages (from Flask-Babel>=1.0.0->visualdl>=2.0.0->paddlex) (2.10.3)\n",
      "Requirement already satisfied: Babel>=2.3 in /opt/conda/envs/python35-paddle120-env/lib/python3.7/site-packages (from Flask-Babel>=1.0.0->visualdl>=2.0.0->paddlex) (2.8.0)\n",
      "Requirement already satisfied: pycryptodome>=3.8.0 in /opt/conda/envs/python35-paddle120-env/lib/python3.7/site-packages (from bce-python-sdk->visualdl>=2.0.0->paddlex) (3.9.9)\n",
      "Requirement already satisfied: future>=0.6.0 in /opt/conda/envs/python35-paddle120-env/lib/python3.7/site-packages (from bce-python-sdk->visualdl>=2.0.0->paddlex) (0.18.0)\n",
      "Requirement already satisfied: chardet<3.1.0,>=3.0.2 in /opt/conda/envs/python35-paddle120-env/lib/python3.7/site-packages (from requests->visualdl>=2.0.0->paddlex) (3.0.4)\n",
      "Requirement already satisfied: certifi>=2017.4.17 in /opt/conda/envs/python35-paddle120-env/lib/python3.7/site-packages (from requests->visualdl>=2.0.0->paddlex) (2019.9.11)\n",
      "Requirement already satisfied: urllib3!=1.25.0,!=1.25.1,<1.26,>=1.21.1 in /opt/conda/envs/python35-paddle120-env/lib/python3.7/site-packages (from requests->visualdl>=2.0.0->paddlex) (1.25.6)\n",
      "Requirement already satisfied: idna<2.9,>=2.5 in /opt/conda/envs/python35-paddle120-env/lib/python3.7/site-packages (from requests->visualdl>=2.0.0->paddlex) (2.8)\n",
      "Requirement already satisfied: pyflakes<2.3.0,>=2.2.0 in /opt/conda/envs/python35-paddle120-env/lib/python3.7/site-packages (from flake8>=3.7.9->visualdl>=2.0.0->paddlex) (2.2.0)\n",
      "Requirement already satisfied: pycodestyle<2.7.0,>=2.6.0a1 in /opt/conda/envs/python35-paddle120-env/lib/python3.7/site-packages (from flake8>=3.7.9->visualdl>=2.0.0->paddlex) (2.6.0)\n",
      "Requirement already satisfied: mccabe<0.7.0,>=0.6.0 in /opt/conda/envs/python35-paddle120-env/lib/python3.7/site-packages (from flake8>=3.7.9->visualdl>=2.0.0->paddlex) (0.6.1)\n",
      "Requirement already satisfied: click>=5.1 in /opt/conda/envs/python35-paddle120-env/lib/python3.7/site-packages (from flask>=1.1.1->visualdl>=2.0.0->paddlex) (7.0)\n",
      "Requirement already satisfied: Werkzeug>=0.15 in /opt/conda/envs/python35-paddle120-env/lib/python3.7/site-packages (from flask>=1.1.1->visualdl>=2.0.0->paddlex) (0.16.0)\n",
      "Requirement already satisfied: itsdangerous>=0.24 in /opt/conda/envs/python35-paddle120-env/lib/python3.7/site-packages (from flask>=1.1.1->visualdl>=2.0.0->paddlex) (1.1.0)\n",
      "Requirement already satisfied: scipy>=0.17.0 in /opt/conda/envs/python35-paddle120-env/lib/python3.7/site-packages (from scikit-learn->sklearn->paddlex) (1.3.0)\n",
      "Requirement already satisfied: joblib>=0.11 in /opt/conda/envs/python35-paddle120-env/lib/python3.7/site-packages (from scikit-learn->sklearn->paddlex) (0.14.1)\n",
      "Requirement already satisfied: gitdb<5,>=4.0.1 in /opt/conda/envs/python35-paddle120-env/lib/python3.7/site-packages (from gitpython->paddlehub==2.1.0->paddlex) (4.0.5)\n",
      "Requirement already satisfied: multiprocess in /opt/conda/envs/python35-paddle120-env/lib/python3.7/site-packages (from paddlenlp>=2.0.0rc5->paddlehub==2.1.0->paddlex) (0.70.11.1)\n",
      "Requirement already satisfied: jieba in /opt/conda/envs/python35-paddle120-env/lib/python3.7/site-packages (from paddlenlp>=2.0.0rc5->paddlehub==2.1.0->paddlex) (0.42.1)\n",
      "Requirement already satisfied: seqeval in /opt/conda/envs/python35-paddle120-env/lib/python3.7/site-packages (from paddlenlp>=2.0.0rc5->paddlehub==2.1.0->paddlex) (1.2.2)\n",
      "Requirement already satisfied: h5py in /opt/conda/envs/python35-paddle120-env/lib/python3.7/site-packages (from paddlenlp>=2.0.0rc5->paddlehub==2.1.0->paddlex) (2.9.0)\n",
      "Requirement already satisfied: zipp>=0.5 in /opt/conda/envs/python35-paddle120-env/lib/python3.7/site-packages (from importlib-metadata; python_version < \"3.8\"->pre-commit->visualdl>=2.0.0->paddlex) (0.6.0)\n",
      "Requirement already satisfied: MarkupSafe>=0.23 in /opt/conda/envs/python35-paddle120-env/lib/python3.7/site-packages (from Jinja2>=2.5->Flask-Babel>=1.0.0->visualdl>=2.0.0->paddlex) (1.1.1)\n",
      "Requirement already satisfied: smmap<4,>=3.0.1 in /opt/conda/envs/python35-paddle120-env/lib/python3.7/site-packages (from gitdb<5,>=4.0.1->gitpython->paddlehub==2.1.0->paddlex) (3.0.5)\n",
      "Requirement already satisfied: dill>=0.3.3 in /opt/conda/envs/python35-paddle120-env/lib/python3.7/site-packages (from multiprocess->paddlenlp>=2.0.0rc5->paddlehub==2.1.0->paddlex) (0.3.3)\n",
      "Requirement already satisfied: more-itertools in /opt/conda/envs/python35-paddle120-env/lib/python3.7/site-packages (from zipp>=0.5->importlib-metadata; python_version < \"3.8\"->pre-commit->visualdl>=2.0.0->paddlex) (7.2.0)\n"
     ]
    }
   ],
   "source": [
    "# 安装PaddleX\r\n",
    "!pip install paddlex"
   ]
  },
  {
   "cell_type": "code",
   "execution_count": 6,
   "metadata": {
    "collapsed": false
   },
   "outputs": [
    {
     "name": "stdout",
     "output_type": "stream",
     "text": [
      "/opt/conda/envs/python35-paddle120-env/lib/python3.7/site-packages/setuptools/depends.py:2: DeprecationWarning: the imp module is deprecated in favour of importlib; see the module's documentation for alternative uses\n",
      "  import imp\n",
      "Dataset Split Done.\u001b[0m\n",
      "\u001b[0mTrain samples: 345\u001b[0m\n",
      "\u001b[0mEval samples: 98\u001b[0m\n",
      "\u001b[0mTest samples: 49\u001b[0m\n",
      "\u001b[0mSplit files saved in objDataset/fire\u001b[0m\n",
      "\u001b[0m\u001b[0m"
     ]
    }
   ],
   "source": [
    "# 划分数据集\r\n",
    "!paddlex --split_dataset --format VOC --dataset_dir objDataset/fire --val_value 0.2 --test_value 0.1"
   ]
  },
  {
   "cell_type": "markdown",
   "metadata": {
    "collapsed": false
   },
   "source": [
    "### 3.数据的预处理"
   ]
  },
  {
   "cell_type": "code",
   "execution_count": 7,
   "metadata": {
    "collapsed": false
   },
   "outputs": [],
   "source": [
    "from paddlex.det import transforms\r\n",
    "\r\n",
    "# 定义训练和验证时的transforms\r\n",
    "# API说明 https://paddlex.readthedocs.io/zh_CN/develop/apis/transforms/det_transforms.html\r\n",
    "train_transforms = transforms.Compose([\r\n",
    "    # 此处需要补充图像预处理代码\r\n",
    "    transforms.Normalize(),\r\n",
    "])\r\n",
    "\r\n",
    "eval_transforms = transforms.Compose([\r\n",
    "    # 此处需要补充图像预处理代码\r\n",
    "    transforms.Normalize(),\r\n",
    "])"
   ]
  },
  {
   "cell_type": "code",
   "execution_count": 12,
   "metadata": {
    "collapsed": false
   },
   "outputs": [
    {
     "name": "stdout",
     "output_type": "stream",
     "text": [
      "2021-08-14 20:14:25 [INFO]\tStarting to read file list from dataset...\n",
      "2021-08-14 20:14:25 [INFO]\t345 samples in file objDataset/fire/train_list.txt\n",
      "creating index...\n",
      "index created!\n",
      "2021-08-14 20:14:25 [INFO]\tStarting to read file list from dataset...\n"
     ]
    },
    {
     "ename": "Exception",
     "evalue": "not found any voc record in objDataset/fire/val_list.txt",
     "output_type": "error",
     "traceback": [
      "\u001b[0;31m---------------------------------------------------------------------------\u001b[0m",
      "\u001b[0;31mException\u001b[0m                                 Traceback (most recent call last)",
      "\u001b[0;32m<ipython-input-12-0e7aadfc7f33>\u001b[0m in \u001b[0;36m<module>\u001b[0;34m\u001b[0m\n\u001b[1;32m     14\u001b[0m     \u001b[0mfile_list\u001b[0m\u001b[0;34m=\u001b[0m\u001b[0;34m'objDataset/fire/val_list.txt'\u001b[0m\u001b[0;34m,\u001b[0m\u001b[0;34m\u001b[0m\u001b[0;34m\u001b[0m\u001b[0m\n\u001b[1;32m     15\u001b[0m     \u001b[0mlabel_list\u001b[0m\u001b[0;34m=\u001b[0m\u001b[0;34m'objDataset/barricade/labels.txt'\u001b[0m\u001b[0;34m,\u001b[0m\u001b[0;34m\u001b[0m\u001b[0;34m\u001b[0m\u001b[0m\n\u001b[0;32m---> 16\u001b[0;31m     transforms=eval_transforms)\n\u001b[0m",
      "\u001b[0;32m/opt/conda/envs/python35-paddle120-env/lib/python3.7/site-packages/paddlex/cv/datasets/voc.py\u001b[0m in \u001b[0;36m__init__\u001b[0;34m(self, data_dir, file_list, label_list, transforms, num_workers, buffer_size, parallel_method, shuffle)\u001b[0m\n\u001b[1;32m    236\u001b[0m \u001b[0;34m\u001b[0m\u001b[0m\n\u001b[1;32m    237\u001b[0m         \u001b[0;32mif\u001b[0m \u001b[0;32mnot\u001b[0m \u001b[0mlen\u001b[0m\u001b[0;34m(\u001b[0m\u001b[0mself\u001b[0m\u001b[0;34m.\u001b[0m\u001b[0mfile_list\u001b[0m\u001b[0;34m)\u001b[0m \u001b[0;34m>\u001b[0m \u001b[0;36m0\u001b[0m\u001b[0;34m:\u001b[0m\u001b[0;34m\u001b[0m\u001b[0;34m\u001b[0m\u001b[0m\n\u001b[0;32m--> 238\u001b[0;31m             \u001b[0;32mraise\u001b[0m \u001b[0mException\u001b[0m\u001b[0;34m(\u001b[0m\u001b[0;34m'not found any voc record in %s'\u001b[0m \u001b[0;34m%\u001b[0m \u001b[0;34m(\u001b[0m\u001b[0mfile_list\u001b[0m\u001b[0;34m)\u001b[0m\u001b[0;34m)\u001b[0m\u001b[0;34m\u001b[0m\u001b[0;34m\u001b[0m\u001b[0m\n\u001b[0m\u001b[1;32m    239\u001b[0m         logging.info(\"{} samples in file {}\".format(\n\u001b[1;32m    240\u001b[0m             len(self.file_list), file_list))\n",
      "\u001b[0;31mException\u001b[0m: not found any voc record in objDataset/fire/val_list.txt"
     ]
    }
   ],
   "source": [
    "import paddlex as pdx\r\n",
    "\r\n",
    "# 定义训练和验证所用的数据集\r\n",
    "# API说明：https://paddlex.readthedocs.io/zh_CN/develop/apis/datasets.html#paddlex-datasets-vocdetection\r\n",
    "train_dataset = pdx.datasets.VOCDetection(\r\n",
    "    data_dir='objDataset/fire',\r\n",
    "    file_list='objDataset/fire/train_list.txt',\r\n",
    "    label_list='objDataset/fire/labels.txt',\r\n",
    "    transforms=train_transforms,\r\n",
    "    shuffle=True)\r\n",
    "\r\n",
    "eval_dataset = pdx.datasets.VOCDetection(\r\n",
    "    data_dir='objDataset/barricade',\r\n",
    "    file_list='objDataset/fire/val_list.txt',\r\n",
    "    label_list='objDataset/barricade/labels.txt',\r\n",
    "    transforms=eval_transforms)"
   ]
  },
  {
   "cell_type": "markdown",
   "metadata": {
    "collapsed": false
   },
   "source": [
    "## 三、模型训练"
   ]
  },
  {
   "cell_type": "code",
   "execution_count": 10,
   "metadata": {
    "collapsed": false
   },
   "outputs": [],
   "source": [
    "# 初始化模型\r\n",
    "# API说明: https://paddlex.readthedocs.io/zh_CN/develop/apis/models/detection.html#paddlex-det-yolov3\r\n",
    "# 此处需要补充目标检测模型代码\r\n",
    "model = pdx.det.YOLOv3(num_classes=len(train_dataset.labels), backbone='MobileNetV1')"
   ]
  },
  {
   "cell_type": "code",
   "execution_count": null,
   "metadata": {
    "collapsed": false
   },
   "outputs": [
    {
     "name": "stdout",
     "output_type": "stream",
     "text": [
      "2021-08-14 20:14:49 [INFO]\tDownloading MobileNetV1_pretrained.tar from http://paddle-imagenet-models-name.bj.bcebos.com/MobileNetV1_pretrained.tar\n"
     ]
    },
    {
     "name": "stderr",
     "output_type": "stream",
     "text": [
      "100%|██████████| 16760/16760 [00:00<00:00, 22380.48KB/s]\n"
     ]
    },
    {
     "name": "stdout",
     "output_type": "stream",
     "text": [
      "2021-08-14 20:14:50 [INFO]\tDecompressing output/yolov3_mobilenetv1/pretrain/MobileNetV1_pretrained.tar...\n",
      "2021-08-14 20:14:51 [INFO]\tLoad pretrain weights from output/yolov3_mobilenetv1/pretrain/MobileNetV1_pretrained.\n",
      "2021-08-14 20:14:51 [INFO]\tThere are 135 varaibles in output/yolov3_mobilenetv1/pretrain/MobileNetV1_pretrained are loaded.\n",
      "2021-08-14 20:15:18 [INFO]\t[TRAIN] Epoch=1/270, Step=2/43, loss=13465.625, lr=0.0, time_each_step=13.37s, eta=44:28:9\n",
      "2021-08-14 20:15:39 [INFO]\t[TRAIN] Epoch=1/270, Step=4/43, loss=15366.742188, lr=0.0, time_each_step=11.86s, eta=39:25:19\n",
      "2021-08-14 20:15:52 [INFO]\t[TRAIN] Epoch=1/270, Step=6/43, loss=7559.179688, lr=1e-06, time_each_step=10.15s, eta=33:43:40\n",
      "2021-08-14 20:16:02 [INFO]\t[TRAIN] Epoch=1/270, Step=8/43, loss=4799.871094, lr=1e-06, time_each_step=8.85s, eta=29:24:28\n",
      "2021-08-14 20:16:17 [INFO]\t[TRAIN] Epoch=1/270, Step=10/43, loss=3063.631836, lr=1e-06, time_each_step=8.55s, eta=28:24:19\n",
      "2021-08-14 20:16:31 [INFO]\t[TRAIN] Epoch=1/270, Step=12/43, loss=3719.883545, lr=1e-06, time_each_step=8.34s, eta=27:42:37\n",
      "2021-08-14 20:16:53 [INFO]\t[TRAIN] Epoch=1/270, Step=14/43, loss=3003.431641, lr=2e-06, time_each_step=8.66s, eta=28:46:34\n",
      "2021-08-14 20:17:04 [INFO]\t[TRAIN] Epoch=1/270, Step=16/43, loss=886.507874, lr=2e-06, time_each_step=8.29s, eta=27:31:55\n",
      "2021-08-14 20:17:16 [INFO]\t[TRAIN] Epoch=1/270, Step=18/43, loss=420.128326, lr=2e-06, time_each_step=8.05s, eta=26:44:20\n",
      "2021-08-14 20:17:32 [INFO]\t[TRAIN] Epoch=1/270, Step=20/43, loss=282.639282, lr=2e-06, time_each_step=8.0s, eta=26:34:49\n",
      "2021-08-14 20:17:47 [INFO]\t[TRAIN] Epoch=1/270, Step=22/43, loss=291.273865, lr=3e-06, time_each_step=7.43s, eta=24:40:30\n",
      "2021-08-14 20:18:05 [INFO]\t[TRAIN] Epoch=1/270, Step=24/43, loss=245.878082, lr=3e-06, time_each_step=7.32s, eta=24:17:13\n",
      "2021-08-14 20:18:17 [INFO]\t[TRAIN] Epoch=1/270, Step=26/43, loss=139.617416, lr=3e-06, time_each_step=7.24s, eta=24:1:9\n",
      "2021-08-14 20:18:28 [INFO]\t[TRAIN] Epoch=1/270, Step=28/43, loss=109.943649, lr=3e-06, time_each_step=7.29s, eta=24:11:52\n",
      "2021-08-14 20:18:43 [INFO]\t[TRAIN] Epoch=1/270, Step=30/43, loss=52.474091, lr=4e-06, time_each_step=7.28s, eta=24:9:50\n",
      "2021-08-14 20:19:00 [INFO]\t[TRAIN] Epoch=1/270, Step=32/43, loss=68.125565, lr=4e-06, time_each_step=7.43s, eta=24:39:3\n",
      "2021-08-14 20:19:20 [INFO]\t[TRAIN] Epoch=1/270, Step=34/43, loss=62.295506, lr=4e-06, time_each_step=7.35s, eta=24:23:1\n",
      "2021-08-14 20:19:34 [INFO]\t[TRAIN] Epoch=1/270, Step=36/43, loss=61.429001, lr=4e-06, time_each_step=7.52s, eta=24:55:56\n",
      "2021-08-14 20:19:48 [INFO]\t[TRAIN] Epoch=1/270, Step=38/43, loss=46.977951, lr=5e-06, time_each_step=7.59s, eta=25:10:32\n",
      "2021-08-14 20:20:10 [INFO]\t[TRAIN] Epoch=1/270, Step=40/43, loss=47.093086, lr=5e-06, time_each_step=7.93s, eta=26:16:29\n",
      "2021-08-14 20:20:22 [INFO]\t[TRAIN] Epoch=1/270, Step=42/43, loss=41.87254, lr=5e-06, time_each_step=7.78s, eta=25:46:29\n",
      "2021-08-14 20:20:30 [INFO]\t[TRAIN] Epoch 1 finished, loss=2571.223389, lr=3e-06 .\n",
      "2021-08-14 20:21:30 [INFO]\t[TRAIN] Epoch=2/270, Step=1/43, loss=26.042305, lr=5e-06, time_each_step=10.25s, eta=26:20:48\n",
      "2021-08-14 20:21:45 [INFO]\t[TRAIN] Epoch=2/270, Step=3/43, loss=31.486982, lr=6e-06, time_each_step=10.39s, eta=26:21:23\n",
      "2021-08-14 20:22:01 [INFO]\t[TRAIN] Epoch=2/270, Step=5/43, loss=39.044601, lr=6e-06, time_each_step=10.63s, eta=26:22:37\n",
      "2021-08-14 20:22:16 [INFO]\t[TRAIN] Epoch=2/270, Step=7/43, loss=43.276772, lr=6e-06, time_each_step=10.68s, eta=26:22:35\n",
      "2021-08-14 20:22:30 [INFO]\t[TRAIN] Epoch=2/270, Step=9/43, loss=28.683479, lr=6e-06, time_each_step=10.5s, eta=26:21:3\n",
      "2021-08-14 20:22:40 [INFO]\t[TRAIN] Epoch=2/270, Step=11/43, loss=32.095226, lr=7e-06, time_each_step=10.0s, eta=26:17:26\n",
      "2021-08-14 20:22:55 [INFO]\t[TRAIN] Epoch=2/270, Step=13/43, loss=32.214458, lr=7e-06, time_each_step=10.05s, eta=26:17:24\n"
     ]
    }
   ],
   "source": [
    "# 模型训练\r\n",
    "# API说明: https://paddlex.readthedocs.io/zh_CN/develop/apis/models/detection.html#id1\r\n",
    "# 各参数介绍与调整说明：https://paddlex.readthedocs.io/zh_CN/develop/appendix/parameters.html\r\n",
    "\r\n",
    "# 此处需要补充模型训练参数\r\n",
    "model.train(\r\n",
    "    num_epochs=270,\r\n",
    "    train_dataset=train_dataset,\r\n",
    "    train_batch_size=8,\r\n",
    "    eval_dataset=eval_dataset,\r\n",
    "    learning_rate=0.000125,\r\n",
    "    lr_decay_epochs=[210, 240],\r\n",
    "    save_dir='output/yolov3_mobilenetv1')"
   ]
  },
  {
   "cell_type": "markdown",
   "metadata": {
    "collapsed": false
   },
   "source": [
    "## 四、总结"
   ]
  },
  {
   "cell_type": "markdown",
   "metadata": {
    "collapsed": false
   },
   "source": [
    "#### 官方的教学真不错"
   ]
  },
  {
   "cell_type": "markdown",
   "metadata": {
    "collapsed": false
   },
   "source": [
    "## 五、个人简介\n",
    "#### https://aistudio.baidu.com/aistudio/personalcenter/thirdview/885207"
   ]
  }
 ],
 "metadata": {
  "kernelspec": {
   "display_name": "PaddlePaddle 2.1.2 (Python 3.5)",
   "language": "python",
   "name": "py35-paddle1.2.0"
  },
  "language_info": {
   "codemirror_mode": {
    "name": "ipython",
    "version": 3
   },
   "file_extension": ".py",
   "mimetype": "text/x-python",
   "name": "python",
   "nbconvert_exporter": "python",
   "pygments_lexer": "ipython3",
   "version": "3.7.4"
  }
 },
 "nbformat": 4,
 "nbformat_minor": 1
}
