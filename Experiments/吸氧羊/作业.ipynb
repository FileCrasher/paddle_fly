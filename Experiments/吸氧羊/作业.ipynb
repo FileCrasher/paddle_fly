{
 "cells": [
  {
   "cell_type": "markdown",
   "metadata": {
    "collapsed": false
   },
   "source": [
    "# PaddleClas实现食物分类（练习）"
   ]
  },
  {
   "cell_type": "code",
   "execution_count": 2,
   "metadata": {
    "collapsed": false
   },
   "outputs": [],
   "source": [
    "from sklearn.utils import shuffle\n",
    "import os\n",
    "import pandas as pd\n",
    "import numpy as np\n",
    "from PIL import Image\n",
    "import paddle\n",
    "import paddle.nn as nn\n",
    "import random"
   ]
  },
  {
   "cell_type": "code",
   "execution_count": 3,
   "metadata": {
    "collapsed": false
   },
   "outputs": [],
   "source": [
    "import warnings\n",
    "warnings.filterwarnings(\"ignore\")"
   ]
  },
  {
   "cell_type": "code",
   "execution_count": 4,
   "metadata": {
    "collapsed": false
   },
   "outputs": [],
   "source": [
    "!unzip -oq /home/aistudio/data/data88442/foods.zip"
   ]
  },
  {
   "cell_type": "code",
   "execution_count": 7,
   "metadata": {
    "collapsed": false
   },
   "outputs": [
    {
     "name": "stdout",
     "output_type": "stream",
     "text": [
      "5 directories, 5000 files\r"
     ]
    }
   ],
   "source": [
    "!tree foods/"
   ]
  },
  {
   "cell_type": "code",
   "execution_count": 8,
   "metadata": {
    "collapsed": false
   },
   "outputs": [
    {
     "name": "stdout",
     "output_type": "stream",
     "text": [
      "5000\n"
     ]
    }
   ],
   "source": [
    "import os\r\n",
    "# -*- coding: utf-8 -*-\r\n",
    "# 根据官方paddleclas的提示，我们需要把图像变为两个txt文件\r\n",
    "# train_list.txt（训练集）\r\n",
    "# val_list.txt（验证集）\r\n",
    "# 先把路径搞定 比如：foods/beef_carpaccio/855780.jpg ,读取到并写入txt \r\n",
    "\r\n",
    "# 根据左侧生成的文件夹名字来写根目录\r\n",
    "dirpath = \"foods\"\r\n",
    "# 先得到总的txt后续再进行划分，因为要划分出验证集，所以要先打乱，因为原本是有序的\r\n",
    "def get_all_txt():\r\n",
    "    all_list = []\r\n",
    "    i = 0 # 标记总文件数量\r\n",
    "    j = 0 # 标记文件类别\r\n",
    "    for root,dirs,files in os.walk(dirpath): # 分别代表根目录、文件夹、文件\r\n",
    "        for file in files:\r\n",
    "            i = i + 1 \r\n",
    "            # 文件中每行格式： 图像相对路径      图像的label_id（数字类别）（注意：中间有空格）。              \r\n",
    "            imgpath = os.path.join(root,file)\r\n",
    "            all_list.append(imgpath+\" \"+str(j)+\"\\n\")\r\n",
    "\r\n",
    "        j = j + 1\r\n",
    "\r\n",
    "    allstr = ''.join(all_list)\r\n",
    "    f = open('all_list.txt','w',encoding='utf-8')\r\n",
    "    f.write(allstr)\r\n",
    "    return all_list , i\r\n",
    "all_list,all_lenth = get_all_txt()\r\n",
    "print(all_lenth)"
   ]
  },
  {
   "cell_type": "code",
   "execution_count": 9,
   "metadata": {
    "collapsed": false
   },
   "outputs": [
    {
     "name": "stdout",
     "output_type": "stream",
     "text": [
      "打乱成功，并重新写入文本\n"
     ]
    }
   ],
   "source": [
    "# 把数据打乱\r\n",
    "all_list = shuffle(all_list)\r\n",
    "allstr = ''.join(all_list)\r\n",
    "f = open('all_list.txt','w',encoding='utf-8')\r\n",
    "f.write(allstr)\r\n",
    "print(\"打乱成功，并重新写入文本\")"
   ]
  },
  {
   "cell_type": "code",
   "execution_count": 10,
   "metadata": {
    "collapsed": false
   },
   "outputs": [
    {
     "name": "stdout",
     "output_type": "stream",
     "text": [
      "4500\n",
      "500\n"
     ]
    }
   ],
   "source": [
    "train_size = int(all_lenth * 0.9)\r\n",
    "train_list = all_list[:train_size]\r\n",
    "val_list = all_list[train_size:]\r\n",
    "\r\n",
    "print(len(train_list))\r\n",
    "print(len(val_list))"
   ]
  },
  {
   "cell_type": "code",
   "execution_count": 11,
   "metadata": {
    "collapsed": false
   },
   "outputs": [
    {
     "name": "stdout",
     "output_type": "stream",
     "text": [
      "train_list.txt 生成成功！\n",
      "val_list.txt 生成成功！\n"
     ]
    }
   ],
   "source": [
    "train_txt = ''.join(train_list)\r\n",
    "f_train = open('train_list.txt','w',encoding='utf-8')\r\n",
    "f_train.write(train_txt)\r\n",
    "f_train.close()\r\n",
    "print(\"train_list.txt 生成成功！\")\r\n",
    "\r\n",
    "# 运行cell，生成验证集txt\r\n",
    "val_txt = ''.join(val_list)\r\n",
    "f_val = open('val_list.txt','w',encoding='utf-8')\r\n",
    "f_val.write(val_txt)\r\n",
    "f_val.close()\r\n",
    "print(\"val_list.txt 生成成功！\")"
   ]
  },
  {
   "cell_type": "code",
   "execution_count": 12,
   "metadata": {
    "collapsed": false
   },
   "outputs": [
    {
     "name": "stdout",
     "output_type": "stream",
     "text": [
      "Cloning into 'PaddleClas'...\n",
      "remote: Enumerating objects: 538, done.\u001b[K\n",
      "remote: Counting objects: 100% (538/538), done.\u001b[K\n",
      "remote: Compressing objects: 100% (323/323), done.\u001b[K\n",
      "remote: Total 15290 (delta 347), reused 349 (delta 210), pack-reused 14752\u001b[K\n",
      "Receiving objects: 100% (15290/15290), 113.56 MiB | 12.62 MiB/s, done.\n",
      "Resolving deltas: 100% (10239/10239), done.\n",
      "Checking connectivity... done.\n"
     ]
    }
   ],
   "source": [
    "!git clone https://gitee.com/paddlepaddle/PaddleClas.git -b release/2.2"
   ]
  },
  {
   "cell_type": "code",
   "execution_count": 13,
   "metadata": {
    "collapsed": false
   },
   "outputs": [
    {
     "name": "stdout",
     "output_type": "stream",
     "text": [
      "Looking in indexes: https://mirror.baidu.com/pypi/simple\n",
      "Collecting prettytable (from -r PaddleClas/requirements.txt (line 1))\n",
      "  Downloading https://mirror.baidu.com/pypi/packages/26/1b/42b59a4038bc0442e3a0085bc0de385658131eef8a88946333f870559b09/prettytable-2.1.0-py3-none-any.whl\n",
      "Collecting ujson (from -r PaddleClas/requirements.txt (line 2))\n",
      "\u001b[?25l  Downloading https://mirror.baidu.com/pypi/packages/17/4e/50e8e4cf5f00b537095711c2c86ac4d7191aed2b4fffd5a19f06898f6929/ujson-4.0.2-cp37-cp37m-manylinux1_x86_64.whl (179kB)\n",
      "\u001b[K     |████████████████████████████████| 184kB 22.4MB/s eta 0:00:01\n",
      "\u001b[?25hCollecting opencv-python==4.4.0.46 (from -r PaddleClas/requirements.txt (line 3))\n",
      "\u001b[?25l  Downloading https://mirror.baidu.com/pypi/packages/30/46/821920986c7ce5bae5518c1d490e520a9ab4cef51e3e54e35094dadf0d68/opencv-python-4.4.0.46.tar.gz (88.9MB)\n",
      "\u001b[K     |████████████████████████████████| 88.9MB 8.3MB/s eta 0:00:016     |███████████████████████████▊    | 77.1MB 8.2MB/s eta 0:00:02\n",
      "\u001b[?25h  Installing build dependencies ... \u001b[?25ldone\n",
      "\u001b[?25h  Getting requirements to build wheel ... \u001b[?25ldone\n",
      "\u001b[?25h    Preparing wheel metadata ... \u001b[?25ldone\n",
      "\u001b[?25hCollecting pillow (from -r PaddleClas/requirements.txt (line 4))\n",
      "\u001b[?25l  Downloading https://mirror.baidu.com/pypi/packages/8e/7a/b047f6f80fdb02c0cca1d3761d71e9800bcf6d4874b71c9e6548ec59e156/Pillow-8.3.1-cp37-cp37m-manylinux_2_5_x86_64.manylinux1_x86_64.whl (3.0MB)\n",
      "\u001b[K     |████████████████████████████████| 3.0MB 13.1MB/s eta 0:00:01\n",
      "\u001b[?25hCollecting tqdm (from -r PaddleClas/requirements.txt (line 5))\n",
      "\u001b[?25l  Downloading https://mirror.baidu.com/pypi/packages/0b/e8/d6f4db0886dbba2fc87b5314f2d5127acdc782e4b51e6f86972a2e45ffd6/tqdm-4.62.0-py2.py3-none-any.whl (76kB)\n",
      "\u001b[K     |████████████████████████████████| 81kB 20.3MB/s eta 0:00:01\n",
      "\u001b[?25hCollecting PyYAML (from -r PaddleClas/requirements.txt (line 6))\n",
      "\u001b[?25l  Downloading https://mirror.baidu.com/pypi/packages/7a/a5/393c087efdc78091afa2af9f1378762f9821c9c1d7a22c5753fb5ac5f97a/PyYAML-5.4.1-cp37-cp37m-manylinux1_x86_64.whl (636kB)\n",
      "\u001b[K     |████████████████████████████████| 645kB 14.6MB/s eta 0:00:01\n",
      "\u001b[?25hRequirement already up-to-date: visualdl>=2.0.0b in /opt/conda/envs/python35-paddle120-env/lib/python3.7/site-packages (from -r PaddleClas/requirements.txt (line 7)) (2.2.0)\n",
      "Collecting scipy (from -r PaddleClas/requirements.txt (line 8))\n",
      "\u001b[?25l  Downloading https://mirror.baidu.com/pypi/packages/b5/6b/8bc0b61ebf824f8c3979a31368bbe38dd247590049a994ab0ed077cb56dc/scipy-1.7.1-cp37-cp37m-manylinux_2_5_x86_64.manylinux1_x86_64.whl (28.5MB)\n",
      "\u001b[K     |████████████████████████████████| 28.5MB 16.0MB/s eta 0:00:01     |████████████▋                   | 11.2MB 8.4MB/s eta 0:00:03\n",
      "\u001b[?25hCollecting scikit-learn==0.23.2 (from -r PaddleClas/requirements.txt (line 9))\n",
      "\u001b[?25l  Downloading https://mirror.baidu.com/pypi/packages/f4/cb/64623369f348e9bfb29ff898a57ac7c91ed4921f228e9726546614d63ccb/scikit_learn-0.23.2-cp37-cp37m-manylinux1_x86_64.whl (6.8MB)\n",
      "\u001b[K     |████████████████████████████████| 6.8MB 13.9MB/s eta 0:00:01\n",
      "\u001b[?25hRequirement already up-to-date: gast==0.3.3 in /opt/conda/envs/python35-paddle120-env/lib/python3.7/site-packages (from -r PaddleClas/requirements.txt (line 10)) (0.3.3)\n",
      "Requirement already satisfied, skipping upgrade: wcwidth in /opt/conda/envs/python35-paddle120-env/lib/python3.7/site-packages (from prettytable->-r PaddleClas/requirements.txt (line 1)) (0.1.7)\n",
      "Requirement already satisfied, skipping upgrade: importlib-metadata; python_version < \"3.8\" in /opt/conda/envs/python35-paddle120-env/lib/python3.7/site-packages (from prettytable->-r PaddleClas/requirements.txt (line 1)) (0.23)\n",
      "Requirement already satisfied, skipping upgrade: numpy>=1.14.5 in /opt/conda/envs/python35-paddle120-env/lib/python3.7/site-packages (from opencv-python==4.4.0.46->-r PaddleClas/requirements.txt (line 3)) (1.20.3)\n",
      "Requirement already satisfied, skipping upgrade: Flask-Babel>=1.0.0 in /opt/conda/envs/python35-paddle120-env/lib/python3.7/site-packages (from visualdl>=2.0.0b->-r PaddleClas/requirements.txt (line 7)) (1.0.0)\n",
      "Requirement already satisfied, skipping upgrade: requests in /opt/conda/envs/python35-paddle120-env/lib/python3.7/site-packages (from visualdl>=2.0.0b->-r PaddleClas/requirements.txt (line 7)) (2.22.0)\n",
      "Requirement already satisfied, skipping upgrade: matplotlib in /opt/conda/envs/python35-paddle120-env/lib/python3.7/site-packages (from visualdl>=2.0.0b->-r PaddleClas/requirements.txt (line 7)) (2.2.3)\n",
      "Requirement already satisfied, skipping upgrade: six>=1.14.0 in /opt/conda/envs/python35-paddle120-env/lib/python3.7/site-packages (from visualdl>=2.0.0b->-r PaddleClas/requirements.txt (line 7)) (1.15.0)\n",
      "Requirement already satisfied, skipping upgrade: flask>=1.1.1 in /opt/conda/envs/python35-paddle120-env/lib/python3.7/site-packages (from visualdl>=2.0.0b->-r PaddleClas/requirements.txt (line 7)) (1.1.1)\n",
      "Requirement already satisfied, skipping upgrade: protobuf>=3.11.0 in /opt/conda/envs/python35-paddle120-env/lib/python3.7/site-packages (from visualdl>=2.0.0b->-r PaddleClas/requirements.txt (line 7)) (3.14.0)\n",
      "Requirement already satisfied, skipping upgrade: shellcheck-py in /opt/conda/envs/python35-paddle120-env/lib/python3.7/site-packages (from visualdl>=2.0.0b->-r PaddleClas/requirements.txt (line 7)) (0.7.1.1)\n",
      "Requirement already satisfied, skipping upgrade: pre-commit in /opt/conda/envs/python35-paddle120-env/lib/python3.7/site-packages (from visualdl>=2.0.0b->-r PaddleClas/requirements.txt (line 7)) (1.21.0)\n",
      "Requirement already satisfied, skipping upgrade: flake8>=3.7.9 in /opt/conda/envs/python35-paddle120-env/lib/python3.7/site-packages (from visualdl>=2.0.0b->-r PaddleClas/requirements.txt (line 7)) (3.8.2)\n",
      "Requirement already satisfied, skipping upgrade: bce-python-sdk in /opt/conda/envs/python35-paddle120-env/lib/python3.7/site-packages (from visualdl>=2.0.0b->-r PaddleClas/requirements.txt (line 7)) (0.8.53)\n",
      "Requirement already satisfied, skipping upgrade: pandas in /opt/conda/envs/python35-paddle120-env/lib/python3.7/site-packages (from visualdl>=2.0.0b->-r PaddleClas/requirements.txt (line 7)) (1.1.5)\n",
      "Requirement already satisfied, skipping upgrade: joblib>=0.11 in /opt/conda/envs/python35-paddle120-env/lib/python3.7/site-packages (from scikit-learn==0.23.2->-r PaddleClas/requirements.txt (line 9)) (0.14.1)\n",
      "Requirement already satisfied, skipping upgrade: threadpoolctl>=2.0.0 in /opt/conda/envs/python35-paddle120-env/lib/python3.7/site-packages (from scikit-learn==0.23.2->-r PaddleClas/requirements.txt (line 9)) (2.1.0)\n",
      "Requirement already satisfied, skipping upgrade: zipp>=0.5 in /opt/conda/envs/python35-paddle120-env/lib/python3.7/site-packages (from importlib-metadata; python_version < \"3.8\"->prettytable->-r PaddleClas/requirements.txt (line 1)) (0.6.0)\n",
      "Requirement already satisfied, skipping upgrade: Jinja2>=2.5 in /opt/conda/envs/python35-paddle120-env/lib/python3.7/site-packages (from Flask-Babel>=1.0.0->visualdl>=2.0.0b->-r PaddleClas/requirements.txt (line 7)) (2.10.1)\n",
      "Requirement already satisfied, skipping upgrade: pytz in /opt/conda/envs/python35-paddle120-env/lib/python3.7/site-packages (from Flask-Babel>=1.0.0->visualdl>=2.0.0b->-r PaddleClas/requirements.txt (line 7)) (2019.3)\n",
      "Requirement already satisfied, skipping upgrade: Babel>=2.3 in /opt/conda/envs/python35-paddle120-env/lib/python3.7/site-packages (from Flask-Babel>=1.0.0->visualdl>=2.0.0b->-r PaddleClas/requirements.txt (line 7)) (2.8.0)\n",
      "Requirement already satisfied, skipping upgrade: urllib3!=1.25.0,!=1.25.1,<1.26,>=1.21.1 in /opt/conda/envs/python35-paddle120-env/lib/python3.7/site-packages (from requests->visualdl>=2.0.0b->-r PaddleClas/requirements.txt (line 7)) (1.25.6)\n",
      "Requirement already satisfied, skipping upgrade: chardet<3.1.0,>=3.0.2 in /opt/conda/envs/python35-paddle120-env/lib/python3.7/site-packages (from requests->visualdl>=2.0.0b->-r PaddleClas/requirements.txt (line 7)) (3.0.4)\n",
      "Requirement already satisfied, skipping upgrade: certifi>=2017.4.17 in /opt/conda/envs/python35-paddle120-env/lib/python3.7/site-packages (from requests->visualdl>=2.0.0b->-r PaddleClas/requirements.txt (line 7)) (2019.9.11)\n",
      "Requirement already satisfied, skipping upgrade: idna<2.9,>=2.5 in /opt/conda/envs/python35-paddle120-env/lib/python3.7/site-packages (from requests->visualdl>=2.0.0b->-r PaddleClas/requirements.txt (line 7)) (2.8)\n",
      "Requirement already satisfied, skipping upgrade: pyparsing!=2.0.4,!=2.1.2,!=2.1.6,>=2.0.1 in /opt/conda/envs/python35-paddle120-env/lib/python3.7/site-packages (from matplotlib->visualdl>=2.0.0b->-r PaddleClas/requirements.txt (line 7)) (2.4.2)\n",
      "Requirement already satisfied, skipping upgrade: kiwisolver>=1.0.1 in /opt/conda/envs/python35-paddle120-env/lib/python3.7/site-packages (from matplotlib->visualdl>=2.0.0b->-r PaddleClas/requirements.txt (line 7)) (1.1.0)\n",
      "Requirement already satisfied, skipping upgrade: python-dateutil>=2.1 in /opt/conda/envs/python35-paddle120-env/lib/python3.7/site-packages (from matplotlib->visualdl>=2.0.0b->-r PaddleClas/requirements.txt (line 7)) (2.8.0)\n",
      "Requirement already satisfied, skipping upgrade: cycler>=0.10 in /opt/conda/envs/python35-paddle120-env/lib/python3.7/site-packages (from matplotlib->visualdl>=2.0.0b->-r PaddleClas/requirements.txt (line 7)) (0.10.0)\n",
      "Requirement already satisfied, skipping upgrade: itsdangerous>=0.24 in /opt/conda/envs/python35-paddle120-env/lib/python3.7/site-packages (from flask>=1.1.1->visualdl>=2.0.0b->-r PaddleClas/requirements.txt (line 7)) (1.1.0)\n",
      "Requirement already satisfied, skipping upgrade: click>=5.1 in /opt/conda/envs/python35-paddle120-env/lib/python3.7/site-packages (from flask>=1.1.1->visualdl>=2.0.0b->-r PaddleClas/requirements.txt (line 7)) (7.0)\n",
      "Requirement already satisfied, skipping upgrade: Werkzeug>=0.15 in /opt/conda/envs/python35-paddle120-env/lib/python3.7/site-packages (from flask>=1.1.1->visualdl>=2.0.0b->-r PaddleClas/requirements.txt (line 7)) (0.16.0)\n",
      "Requirement already satisfied, skipping upgrade: cfgv>=2.0.0 in /opt/conda/envs/python35-paddle120-env/lib/python3.7/site-packages (from pre-commit->visualdl>=2.0.0b->-r PaddleClas/requirements.txt (line 7)) (2.0.1)\n",
      "Requirement already satisfied, skipping upgrade: virtualenv>=15.2 in /opt/conda/envs/python35-paddle120-env/lib/python3.7/site-packages (from pre-commit->visualdl>=2.0.0b->-r PaddleClas/requirements.txt (line 7)) (16.7.9)\n",
      "Requirement already satisfied, skipping upgrade: aspy.yaml in /opt/conda/envs/python35-paddle120-env/lib/python3.7/site-packages (from pre-commit->visualdl>=2.0.0b->-r PaddleClas/requirements.txt (line 7)) (1.3.0)\n",
      "Requirement already satisfied, skipping upgrade: toml in /opt/conda/envs/python35-paddle120-env/lib/python3.7/site-packages (from pre-commit->visualdl>=2.0.0b->-r PaddleClas/requirements.txt (line 7)) (0.10.0)\n",
      "Requirement already satisfied, skipping upgrade: identify>=1.0.0 in /opt/conda/envs/python35-paddle120-env/lib/python3.7/site-packages (from pre-commit->visualdl>=2.0.0b->-r PaddleClas/requirements.txt (line 7)) (1.4.10)\n",
      "Requirement already satisfied, skipping upgrade: nodeenv>=0.11.1 in /opt/conda/envs/python35-paddle120-env/lib/python3.7/site-packages (from pre-commit->visualdl>=2.0.0b->-r PaddleClas/requirements.txt (line 7)) (1.3.4)\n",
      "Requirement already satisfied, skipping upgrade: mccabe<0.7.0,>=0.6.0 in /opt/conda/envs/python35-paddle120-env/lib/python3.7/site-packages (from flake8>=3.7.9->visualdl>=2.0.0b->-r PaddleClas/requirements.txt (line 7)) (0.6.1)\n",
      "Requirement already satisfied, skipping upgrade: pyflakes<2.3.0,>=2.2.0 in /opt/conda/envs/python35-paddle120-env/lib/python3.7/site-packages (from flake8>=3.7.9->visualdl>=2.0.0b->-r PaddleClas/requirements.txt (line 7)) (2.2.0)\n",
      "Requirement already satisfied, skipping upgrade: pycodestyle<2.7.0,>=2.6.0a1 in /opt/conda/envs/python35-paddle120-env/lib/python3.7/site-packages (from flake8>=3.7.9->visualdl>=2.0.0b->-r PaddleClas/requirements.txt (line 7)) (2.6.0)\n",
      "Requirement already satisfied, skipping upgrade: pycryptodome>=3.8.0 in /opt/conda/envs/python35-paddle120-env/lib/python3.7/site-packages (from bce-python-sdk->visualdl>=2.0.0b->-r PaddleClas/requirements.txt (line 7)) (3.9.9)\n",
      "Requirement already satisfied, skipping upgrade: future>=0.6.0 in /opt/conda/envs/python35-paddle120-env/lib/python3.7/site-packages (from bce-python-sdk->visualdl>=2.0.0b->-r PaddleClas/requirements.txt (line 7)) (0.18.0)\n",
      "Requirement already satisfied, skipping upgrade: more-itertools in /opt/conda/envs/python35-paddle120-env/lib/python3.7/site-packages (from zipp>=0.5->importlib-metadata; python_version < \"3.8\"->prettytable->-r PaddleClas/requirements.txt (line 1)) (7.2.0)\n",
      "Requirement already satisfied, skipping upgrade: MarkupSafe>=0.23 in /opt/conda/envs/python35-paddle120-env/lib/python3.7/site-packages (from Jinja2>=2.5->Flask-Babel>=1.0.0->visualdl>=2.0.0b->-r PaddleClas/requirements.txt (line 7)) (1.1.1)\n",
      "Requirement already satisfied, skipping upgrade: setuptools in /opt/conda/envs/python35-paddle120-env/lib/python3.7/site-packages (from kiwisolver>=1.0.1->matplotlib->visualdl>=2.0.0b->-r PaddleClas/requirements.txt (line 7)) (56.2.0)\n",
      "Building wheels for collected packages: opencv-python\n",
      "  Building wheel for opencv-python (PEP 517) ... \u001b[?25ldone\n",
      "\u001b[?25h  Created wheel for opencv-python: filename=opencv_python-4.4.0.46-cp37-cp37m-linux_x86_64.whl size=12702504 sha256=23820ae4433cffc91b2cb79950db826e635d79ced98de9381b7c47f5a9a20083\n",
      "  Stored in directory: /home/aistudio/.cache/pip/wheels/84/ad/2c/2750e9e71f879c0807c4bbdfb84ba638eb1f9576dc211fc5bb\n",
      "Successfully built opencv-python\n",
      "\u001b[31mERROR: python-language-server 0.33.0 has requirement ujson<=1.35; platform_system != \"Windows\", but you'll have ujson 4.0.2 which is incompatible.\u001b[0m\n",
      "\u001b[31mERROR: python-jsonrpc-server 0.3.4 has requirement ujson<=1.35; platform_system != \"Windows\", but you'll have ujson 4.0.2 which is incompatible.\u001b[0m\n",
      "\u001b[31mERROR: blackhole 1.0.1 has requirement numpy<=1.19.5, but you'll have numpy 1.20.3 which is incompatible.\u001b[0m\n",
      "Installing collected packages: prettytable, ujson, opencv-python, pillow, tqdm, PyYAML, scipy, scikit-learn\n",
      "  Found existing installation: prettytable 0.7.2\n",
      "    Uninstalling prettytable-0.7.2:\n",
      "      Successfully uninstalled prettytable-0.7.2\n",
      "  Found existing installation: ujson 1.35\n",
      "    Uninstalling ujson-1.35:\n",
      "      Successfully uninstalled ujson-1.35\n",
      "  Found existing installation: opencv-python 4.1.1.26\n",
      "    Uninstalling opencv-python-4.1.1.26:\n",
      "      Successfully uninstalled opencv-python-4.1.1.26\n",
      "  Found existing installation: Pillow 7.1.2\n",
      "    Uninstalling Pillow-7.1.2:\n",
      "      Successfully uninstalled Pillow-7.1.2\n",
      "  Found existing installation: tqdm 4.36.1\n",
      "    Uninstalling tqdm-4.36.1:\n",
      "      Successfully uninstalled tqdm-4.36.1\n",
      "  Found existing installation: PyYAML 5.1.2\n",
      "    Uninstalling PyYAML-5.1.2:\n",
      "      Successfully uninstalled PyYAML-5.1.2\n",
      "  Found existing installation: scipy 1.6.3\n",
      "    Uninstalling scipy-1.6.3:\n",
      "      Successfully uninstalled scipy-1.6.3\n",
      "  Found existing installation: scikit-learn 0.24.2\n",
      "    Uninstalling scikit-learn-0.24.2:\n",
      "      Successfully uninstalled scikit-learn-0.24.2\n",
      "Successfully installed PyYAML-5.4.1 opencv-python-4.4.0.46 pillow-8.3.1 prettytable-2.1.0 scikit-learn-0.23.2 scipy-1.7.1 tqdm-4.62.0 ujson-4.0.2\n"
     ]
    }
   ],
   "source": [
    "!pip install --upgrade -r PaddleClas/requirements.txt -i https://mirror.baidu.com/pypi/simple"
   ]
  },
  {
   "cell_type": "code",
   "execution_count": 14,
   "metadata": {
    "collapsed": false
   },
   "outputs": [
    {
     "name": "stdout",
     "output_type": "stream",
     "text": [
      "/home/aistudio/PaddleClas\n",
      "dataset  hubconf.py   MANIFEST.in    README_ch.md  requirements.txt\r\n",
      "deploy\t __init__.py  paddleclas.py  README_en.md  setup.py\r\n",
      "docs\t LICENSE      ppcls\t     README.md\t   tools\r\n"
     ]
    }
   ],
   "source": [
    "%cd PaddleClas\r\n",
    "!ls"
   ]
  },
  {
   "cell_type": "code",
   "execution_count": 15,
   "metadata": {
    "collapsed": false
   },
   "outputs": [],
   "source": [
    "!mv ../foods/ dataset/"
   ]
  },
  {
   "cell_type": "code",
   "execution_count": 16,
   "metadata": {
    "collapsed": false
   },
   "outputs": [],
   "source": [
    "!mv ../all_list.txt dataset/foods\r\n",
    "!mv ../train_list.txt dataset/foods\r\n",
    "!mv ../val_list.txt dataset/foods"
   ]
  },
  {
   "cell_type": "code",
   "execution_count": 17,
   "metadata": {
    "collapsed": false
   },
   "outputs": [
    {
     "name": "stdout",
     "output_type": "stream",
     "text": [
      "[2021/08/15 00:55:23] root INFO: Already save model in ./output/ResNet50/latest\r"
     ]
    }
   ],
   "source": [
    "!python3 tools/train.py \\\r\n",
    "    -c ./ppcls/configs/quick_start/new_user/ShuffleNetV2_x0_25.yaml"
   ]
  },
  {
   "cell_type": "code",
   "execution_count": 18,
   "metadata": {
    "collapsed": false
   },
   "outputs": [
    {
     "name": "stdout",
     "output_type": "stream",
     "text": [
      "/home/aistudio/PaddleClas/ppcls/arch/backbone/model_zoo/vision_transformer.py:15: DeprecationWarning: Using or importing the ABCs from 'collections' instead of from 'collections.abc' is deprecated, and in 3.8 it will stop working\n",
      "  from collections import Callable\n",
      "[2021/08/15 00:57:09] root INFO: \n",
      "===========================================================\n",
      "==        PaddleClas is powered by PaddlePaddle !        ==\n",
      "===========================================================\n",
      "==                                                       ==\n",
      "==   For more info please go to the following website.   ==\n",
      "==                                                       ==\n",
      "==       https://github.com/PaddlePaddle/PaddleClas      ==\n",
      "===========================================================\n",
      "\n",
      "[2021/08/15 00:57:09] root INFO: Arch : \n",
      "[2021/08/15 00:57:09] root INFO:     class_num : 6\n",
      "[2021/08/15 00:57:09] root INFO:     name : ResNet50\n",
      "[2021/08/15 00:57:09] root INFO: DataLoader : \n",
      "[2021/08/15 00:57:09] root INFO:     Eval : \n",
      "[2021/08/15 00:57:09] root INFO:         dataset : \n",
      "[2021/08/15 00:57:09] root INFO:             cls_label_path : ./dataset/foods/val_list.txt\n",
      "[2021/08/15 00:57:09] root INFO:             image_root : ./dataset/\n",
      "[2021/08/15 00:57:09] root INFO:             name : ImageNetDataset\n",
      "[2021/08/15 00:57:09] root INFO:             transform_ops : \n",
      "[2021/08/15 00:57:09] root INFO:                 DecodeImage : \n",
      "[2021/08/15 00:57:09] root INFO:                     channel_first : False\n",
      "[2021/08/15 00:57:09] root INFO:                     to_rgb : True\n",
      "[2021/08/15 00:57:09] root INFO:                 ResizeImage : \n",
      "[2021/08/15 00:57:09] root INFO:                     resize_short : 256\n",
      "[2021/08/15 00:57:09] root INFO:                 CropImage : \n",
      "[2021/08/15 00:57:09] root INFO:                     size : 224\n",
      "[2021/08/15 00:57:09] root INFO:                 NormalizeImage : \n",
      "[2021/08/15 00:57:09] root INFO:                     mean : [0.485, 0.456, 0.406]\n",
      "[2021/08/15 00:57:09] root INFO:                     order : \n",
      "[2021/08/15 00:57:09] root INFO:                     scale : 1.0/255.0\n",
      "[2021/08/15 00:57:09] root INFO:                     std : [0.229, 0.224, 0.225]\n",
      "[2021/08/15 00:57:09] root INFO:         loader : \n",
      "[2021/08/15 00:57:09] root INFO:             num_workers : 0\n",
      "[2021/08/15 00:57:09] root INFO:             use_shared_memory : True\n",
      "[2021/08/15 00:57:09] root INFO:         sampler : \n",
      "[2021/08/15 00:57:09] root INFO:             batch_size : 128\n",
      "[2021/08/15 00:57:09] root INFO:             drop_last : False\n",
      "[2021/08/15 00:57:09] root INFO:             name : DistributedBatchSampler\n",
      "[2021/08/15 00:57:09] root INFO:             shuffle : True\n",
      "[2021/08/15 00:57:09] root INFO:     Train : \n",
      "[2021/08/15 00:57:09] root INFO:         dataset : \n",
      "[2021/08/15 00:57:09] root INFO:             cls_label_path : ./dataset/foods/train_list.txt\n",
      "[2021/08/15 00:57:09] root INFO:             image_root : ./dataset/\n",
      "[2021/08/15 00:57:09] root INFO:             name : ImageNetDataset\n",
      "[2021/08/15 00:57:09] root INFO:             transform_ops : \n",
      "[2021/08/15 00:57:09] root INFO:                 DecodeImage : \n",
      "[2021/08/15 00:57:09] root INFO:                     channel_first : False\n",
      "[2021/08/15 00:57:09] root INFO:                     to_rgb : True\n",
      "[2021/08/15 00:57:09] root INFO:                 ResizeImage : \n",
      "[2021/08/15 00:57:09] root INFO:                     resize_short : 256\n",
      "[2021/08/15 00:57:09] root INFO:                 CropImage : \n",
      "[2021/08/15 00:57:09] root INFO:                     size : 224\n",
      "[2021/08/15 00:57:09] root INFO:                 RandFlipImage : \n",
      "[2021/08/15 00:57:09] root INFO:                     flip_code : 1\n",
      "[2021/08/15 00:57:09] root INFO:                 NormalizeImage : \n",
      "[2021/08/15 00:57:09] root INFO:                     mean : [0.485, 0.456, 0.406]\n",
      "[2021/08/15 00:57:09] root INFO:                     order : \n",
      "[2021/08/15 00:57:09] root INFO:                     scale : 1.0/255.0\n",
      "[2021/08/15 00:57:09] root INFO:                     std : [0.229, 0.224, 0.225]\n",
      "[2021/08/15 00:57:09] root INFO:         loader : \n",
      "[2021/08/15 00:57:09] root INFO:             num_workers : 0\n",
      "[2021/08/15 00:57:09] root INFO:             use_shared_memory : True\n",
      "[2021/08/15 00:57:09] root INFO:         sampler : \n",
      "[2021/08/15 00:57:09] root INFO:             batch_size : 128\n",
      "[2021/08/15 00:57:09] root INFO:             drop_last : False\n",
      "[2021/08/15 00:57:09] root INFO:             name : DistributedBatchSampler\n",
      "[2021/08/15 00:57:09] root INFO:             shuffle : True\n",
      "[2021/08/15 00:57:09] root INFO: Global : \n",
      "[2021/08/15 00:57:09] root INFO:     checkpoints : None\n",
      "[2021/08/15 00:57:09] root INFO:     device : gpu\n",
      "[2021/08/15 00:57:09] root INFO:     epochs : 20\n",
      "[2021/08/15 00:57:09] root INFO:     eval_during_train : True\n",
      "[2021/08/15 00:57:09] root INFO:     eval_interval : 1\n",
      "[2021/08/15 00:57:09] root INFO:     image_shape : [3, 224, 224]\n",
      "[2021/08/15 00:57:09] root INFO:     output_dir : ./output/\n",
      "[2021/08/15 00:57:09] root INFO:     pretrained_model : output/ResNet50/best_model\n",
      "[2021/08/15 00:57:09] root INFO:     print_batch_step : 1\n",
      "[2021/08/15 00:57:09] root INFO:     save_inference_dir : ./inference\n",
      "[2021/08/15 00:57:09] root INFO:     save_interval : 1\n",
      "[2021/08/15 00:57:09] root INFO:     to_static : False\n",
      "[2021/08/15 00:57:09] root INFO:     use_visualdl : True\n",
      "[2021/08/15 00:57:09] root INFO: Infer : \n",
      "[2021/08/15 00:57:09] root INFO:     PostProcess : \n",
      "[2021/08/15 00:57:09] root INFO:         class_id_map_file : ./dataset/label_list.txt\n",
      "[2021/08/15 00:57:09] root INFO:         name : Topk\n",
      "[2021/08/15 00:57:09] root INFO:         topk : 5\n",
      "[2021/08/15 00:57:09] root INFO:     batch_size : 10\n",
      "[2021/08/15 00:57:09] root INFO:     infer_imgs : dataset/foods/baby_back_ribs/319516.jpg\n",
      "[2021/08/15 00:57:09] root INFO:     transforms : \n",
      "[2021/08/15 00:57:09] root INFO:         DecodeImage : \n",
      "[2021/08/15 00:57:09] root INFO:             channel_first : False\n",
      "[2021/08/15 00:57:09] root INFO:             to_rgb : True\n",
      "[2021/08/15 00:57:09] root INFO:         ResizeImage : \n",
      "[2021/08/15 00:57:09] root INFO:             resize_short : 256\n",
      "[2021/08/15 00:57:09] root INFO:         CropImage : \n",
      "[2021/08/15 00:57:09] root INFO:             size : 224\n",
      "[2021/08/15 00:57:09] root INFO:         NormalizeImage : \n",
      "[2021/08/15 00:57:09] root INFO:             mean : [0.485, 0.456, 0.406]\n",
      "[2021/08/15 00:57:09] root INFO:             order : \n",
      "[2021/08/15 00:57:09] root INFO:             scale : 1.0/255.0\n",
      "[2021/08/15 00:57:09] root INFO:             std : [0.229, 0.224, 0.225]\n",
      "[2021/08/15 00:57:09] root INFO:         ToCHWImage : None\n",
      "[2021/08/15 00:57:09] root INFO: Loss : \n",
      "[2021/08/15 00:57:09] root INFO:     Eval : \n",
      "[2021/08/15 00:57:09] root INFO:         CELoss : \n",
      "[2021/08/15 00:57:09] root INFO:             weight : 1.0\n",
      "[2021/08/15 00:57:09] root INFO:     Train : \n",
      "[2021/08/15 00:57:09] root INFO:         CELoss : \n",
      "[2021/08/15 00:57:09] root INFO:             weight : 1.0\n",
      "[2021/08/15 00:57:09] root INFO: Metric : \n",
      "[2021/08/15 00:57:09] root INFO:     Eval : \n",
      "[2021/08/15 00:57:09] root INFO:         TopkAcc : \n",
      "[2021/08/15 00:57:09] root INFO:             topk : [1, 5]\n",
      "[2021/08/15 00:57:09] root INFO:     Train : \n",
      "[2021/08/15 00:57:09] root INFO:         TopkAcc : \n",
      "[2021/08/15 00:57:09] root INFO:             topk : [1, 5]\n",
      "[2021/08/15 00:57:09] root INFO: Optimizer : \n",
      "[2021/08/15 00:57:09] root INFO:     lr : \n",
      "[2021/08/15 00:57:09] root INFO:         decay_epochs : [30, 60, 90]\n",
      "[2021/08/15 00:57:09] root INFO:         learning_rate : 0.015\n",
      "[2021/08/15 00:57:09] root INFO:         name : Piecewise\n",
      "[2021/08/15 00:57:09] root INFO:         values : [0.1, 0.01, 0.001, 0.0001]\n",
      "[2021/08/15 00:57:09] root INFO:     momentum : 0.9\n",
      "[2021/08/15 00:57:09] root INFO:     name : Momentum\n",
      "[2021/08/15 00:57:09] root INFO:     regularizer : \n",
      "[2021/08/15 00:57:09] root INFO:         coeff : 0.0005\n",
      "[2021/08/15 00:57:09] root INFO:         name : L2\n",
      "W0815 00:57:09.667623  8415 device_context.cc:404] Please NOTE: device: 0, GPU Compute Capability: 7.0, Driver API Version: 10.1, Runtime API Version: 10.1\n",
      "W0815 00:57:09.672415  8415 device_context.cc:422] device: 0, cuDNN Version: 7.6.\n",
      "[2021/08/15 00:57:15] root INFO: train with paddle 2.1.2 and device CUDAPlace(0)\n",
      "invalid literal for int() with base 10: 'beef_carpaccio'\n",
      "/opt/conda/envs/python35-paddle120-env/lib/python3.7/site-packages/paddle/tensor/creation.py:125: DeprecationWarning: `np.object` is a deprecated alias for the builtin `object`. To silence this warning, use `object` by itself. Doing this will not modify any behavior and is safe. \n",
      "Deprecated in NumPy 1.20; for more details and guidance: https://numpy.org/devdocs/release/1.20.0-notes.html#deprecations\n",
      "  if data.dtype == np.object:\n",
      "[{'class_ids': [2, 4, 3, 1, 5], 'scores': [0.86336, 0.06725, 0.05776, 0.00797, 0.00361], 'file_name': 'dataset/foods/baby_back_ribs/319516.jpg', 'label_names': []}]\n"
     ]
    }
   ],
   "source": [
    "!python3 tools/infer.py \\\r\n",
    "    -c ./ppcls/configs/quick_start/new_user/ShuffleNetV2_x0_25.yaml \\\r\n",
    "    -o Infer.infer_imgs=dataset/foods/baby_back_ribs/319516.jpg \\\r\n",
    "    -o Global.pretrained_model=output/ResNet50/best_model"
   ]
  },
  {
   "cell_type": "code",
   "execution_count": null,
   "metadata": {
    "collapsed": false
   },
   "outputs": [],
   "source": []
  }
 ],
 "metadata": {
  "kernelspec": {
   "display_name": "PaddlePaddle 2.1.2 (Python 3.5)",
   "language": "python",
   "name": "py35-paddle1.2.0"
  },
  "language_info": {
   "codemirror_mode": {
    "name": "ipython",
    "version": 3
   },
   "file_extension": ".py",
   "mimetype": "text/x-python",
   "name": "python",
   "nbconvert_exporter": "python",
   "pygments_lexer": "ipython3",
   "version": "3.7.4"
  }
 },
 "nbformat": 4,
 "nbformat_minor": 1
}
